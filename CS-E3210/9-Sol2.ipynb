{
 "cells": [
  {
   "cell_type": "markdown",
   "metadata": {},
   "source": [
    "1- Option 1 is not correct since one factor a time by default considers independency among the factors and the time complexity is $\\mathcal{O}(L\\cdot F)$. \n",
    "Option 2 is correct, option 3 is not correct since the fatorial design takes $\\mathcal{O}(L^F)$"
   ]
  },
  {
   "cell_type": "markdown",
   "metadata": {},
   "source": [
    "2- In this case we have assuemd that we know the standard deviation of the population. We define the null and the alternative hypothesis as: \n",
    "$H_0 : \\mu = 34 \\quad vs. \\quad H_a : \\mu < 34$\n",
    "\n",
    "The fact that we are looking for scores lower than a certain point means that this is a left-tailed test. (page 28 of the slides)\n",
    "From the z-table, the significance 0.05 level has zscore -1.645\n",
    "From the z-table, the significance 0.1 level has zscore -1.28\n",
    "We can compute the test statistic given the formula (page 22 of the slides) :\n",
    "$\\frac{m - \\mu}{\\sigma/\\sqrt{N}} \\sim \\mathcal{Z}$\n",
    "\n",
    "$\\frac{32.5 - 34}{8/\\sqrt{50}} = -1.32$\n",
    "\n",
    "\n",
    "For significance level 0.05, the computed statistic is greater than the zscore, so the statistic is not in the rejected region therefore we accept the null hypothesis, in this case the claim ($\\mu < 34$) is false. \n",
    "For the significance level 0.1, the computed statistic is lower than the zscore, then it is in the rejected region, so we rejet the null hypothesis and accept the alternative (claim)."
   ]
  },
  {
   "cell_type": "markdown",
   "metadata": {},
   "source": [
    "3- if the z-score falls in the rejected region, regardless of the type of tail, we reject the null hypothesis. "
   ]
  },
  {
   "cell_type": "markdown",
   "metadata": {},
   "source": [
    "4- In this question we do not know the standard deviation of the true population (page 26 of the slides where \\sigma is unknown), so instead of a normal distribution statistic we have a use t-distribution statistic.\n",
    "We define the null and alternative hypothesis as: \n",
    "The fact that we are looking for scores not equal with a certain point means that this is a two-tailed test. (page 28 of the slides)\n",
    "\n",
    "$H_0 : \\mu = 10 \\quad vs. \\quad H_a : \\mu \\neq 10$\n",
    "\n",
    "We compute the statistic for t-distribution using the frmula given in page 26 of the slides:\n",
    "\n",
    "\n",
    "$\\frac{\\sqrt{N} (m - \\mu)} {S} \\sim t_{N-1}$\n",
    "\n",
    "\n",
    "\n",
    "t = $\\frac{\\sqrt{20} (7 - 10)} {4}$ = -3.35 \n",
    "\n",
    " \n",
    " \n",
    "We know that the sample has 20 candles, so our degrees of freedom for this test is (20-1)= 19  degrees of  freedom at the 0.05 significance level gives us a critical value of ± 2.093 (usng the provided t-table)\n",
    "since our computed statistic is greated than the computed statistic,  we reject the null hypothesis, which means that the claim stated by the factory is wrong."
   ]
  },
  {
   "cell_type": "markdown",
   "metadata": {},
   "source": [
    "5- In this problem, precision is the fraction of cases that our classifier detects as cheating, and they were really cheating out of all claims that our classifier labeled as positive (cheating ones)  \n",
    "The recall is the fraction of the cheating claims that our classifier has detected correctly, out of all the cheating ones. The expert will investigate the claims that have been detected as cheating ones. \n",
    "Since paying a claim that you should not have to is more expensive than paying someone to investigate the claim, recall is more important, because if we can not find many of the cheating claims, we have to pay more money for the claims that the classifier has not detected as fraudulent, whereas if the precision is low, it means that the expert should reject more cases that the classifier has chosen as positive cases, and they were not really fraudulent. "
   ]
  },
  {
   "cell_type": "markdown",
   "metadata": {},
   "source": [
    "6-The specificity is about the true negative rate, whereas, the accuracy contains information about both true negative and true positive. Hence, having a higher specificity doesn't necessarily imply a higher accuracy. The accuracy might be higher or not. "
   ]
  }
 ],
 "metadata": {
  "kernelspec": {
   "display_name": "Python 3",
   "language": "python",
   "name": "python3"
  },
  "language_info": {
   "codemirror_mode": {
    "name": "ipython",
    "version": 3
   },
   "file_extension": ".py",
   "mimetype": "text/x-python",
   "name": "python",
   "nbconvert_exporter": "python",
   "pygments_lexer": "ipython3",
   "version": "3.7.3"
  }
 },
 "nbformat": 4,
 "nbformat_minor": 2
}
