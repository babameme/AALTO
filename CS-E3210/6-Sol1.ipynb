{
 "cells": [
  {
   "cell_type": "markdown",
   "metadata": {},
   "source": [
    "1- The probability of having more than of 25 noisy examples in a sample of size 50 drawn from a dataset with $40\\%$ noisy examples can be computed as: \n",
    "$p(x > 25) = 1 - p(x \\leq 25) = 1- (p (x = 0) + \\cdots + p(x = 25))$\n",
    "\n",
    "where each of these probabilities is a binomial trail. Hence, the solution can be computed as:\n",
    "$1 - (\\sum_{i=0}^{25}{50 \\choose i}(0.4)^i (0.6)^{50-i}) = 0.06$\n"
   ]
  },
  {
   "cell_type": "markdown",
   "metadata": {},
   "source": [
    "2- Based on the given formula in the question, since $\\delta$ is in the logarithm, it has a lower effect than $\\epsilon$."
   ]
  },
  {
   "cell_type": "markdown",
   "metadata": {},
   "source": [
    "3- In PAC theory, there is no assumption about the type of the distribution, but it should be fixed. "
   ]
  },
  {
   "cell_type": "markdown",
   "metadata": {},
   "source": [
    "4- The generalization error bound is about the tail of the generalization error distribution, and the expected generalization value is tipically lower than this value.  "
   ]
  },
  {
   "cell_type": "markdown",
   "metadata": {},
   "source": [
    "5- Based on the given formula, lower bound on the number of examples can be computed as: \n",
    "\n",
    "  $\\frac{1}{0.1} (\\log(3^3) + \\log(\\frac{1}{0.05})$) = 62.9\n",
    " "
   ]
  },
  {
   "cell_type": "markdown",
   "metadata": {},
   "source": [
    "6- To keep the same bound, the value of the squre root should not change. By doubling $\\delta$, number of required examples ($m_x$) can be computed as: \n",
    "$\\frac{\\log\\frac{2}{\\delta}}{2m} = \\frac{\\log\\frac{2}{2\\delta}}{2m_x}$, Solving this math equation, and substituting the original data value $\\delta = 0.1$, gives us $m_x = 0.8 m$"
   ]
  },
  {
   "cell_type": "markdown",
   "metadata": {},
   "source": [
    "7- Bayes error is the minimum achievable error for a data set with known underlying distribution and no learner can achive a lower error than the Bayes error."
   ]
  },
  {
   "cell_type": "code",
   "execution_count": 2,
   "metadata": {},
   "outputs": [
    {
     "name": "stdout",
     "output_type": "stream",
     "text": [
      "regression coefficients are:  [2.70491803 1.13114754]\n"
     ]
    }
   ],
   "source": [
    "import numpy as np\n",
    "from sklearn.linear_model import LinearRegression\n",
    "from numpy.linalg import inv\n",
    "import matplotlib.pyplot as plt\n",
    "x = [0, 1, 3, 4, 6, 8, 9]\n",
    "y = [2, 5, 7, 6, 8, 14, 12]\n",
    "N = np.shape(x)\n",
    "x_ext = np.transpose(np.vstack([np.ones(N),np.array(x)]))\n",
    "reg = LinearRegression(fit_intercept=False).fit(x_ext, y)\n",
    "print(\"regression coefficients are: \",reg.coef_)"
   ]
  },
  {
   "cell_type": "code",
   "execution_count": 8,
   "metadata": {},
   "outputs": [
    {
     "name": "stdout",
     "output_type": "stream",
     "text": [
      "Coefficient b0 is:  2.7049180327868854\n",
      "Coefficient b1 is:  1.1311475409836065\n"
     ]
    },
    {
     "data": {
      "image/png": "[encoded data removed]",
      "text/plain": [
       "<Figure size 432x288 with 1 Axes>"
      ]
     },
     "metadata": {
      "needs_background": "light"
     },
     "output_type": "display_data"
    }
   ],
   "source": [
    "#computes the slope and intercept for the linear regressor that fits the best the above data\n",
    "m_x, m_y = np.mean(x), np.mean(y)# calculating mean for x and y vectors  \n",
    "# calculating regression coefficients \n",
    "b1 = np.sum((x-m_x)*(y-m_y))/np.sum(np.power((x-m_x),2))\n",
    "b0 = m_y - b1*m_x \n",
    "print(\"Coefficient b0 is: \",b0 )\n",
    "print(\"Coefficient b1 is: \",b1 )\n",
    "#plot the linear regressor\n",
    "plt.scatter(x, y, color = \"m\", marker = \"o\", s = 100) \n",
    "# predicted response vector \n",
    "y_pred = b0 + b1*np.array(x)# plotting the regression line \n",
    "plt.plot(x, y_pred, color = \"g\") \n",
    "# putting labels \n",
    "plt.xlabel('x') \n",
    "plt.ylabel('y') \n",
    "#show plot \n",
    "plt.show()"
   ]
  },
  {
   "cell_type": "markdown",
   "metadata": {},
   "source": [
    "Now lets look at linear regression problem as an optimization problem. Using vectorize opertaions, find the optimium coefficients. "
   ]
  },
  {
   "cell_type": "code",
   "execution_count": 3,
   "metadata": {},
   "outputs": [
    {
     "name": "stdout",
     "output_type": "stream",
     "text": [
      "regression coefficients are:  [2.70491803 1.13114754]\n"
     ]
    }
   ],
   "source": [
    "XTX = inv(np.matmul(np.transpose(x_ext),x_ext))\n",
    "XTY = np.matmul(np.transpose(x_ext),y)\n",
    "beta = np.matmul(XTX, XTY)\n",
    "print(\"regression coefficients are: \", beta)\n",
    "\n"
   ]
  },
  {
   "cell_type": "markdown",
   "metadata": {},
   "source": [
    "10- Prediction of the outputs for the given test inputs:"
   ]
  },
  {
   "cell_type": "code",
   "execution_count": 4,
   "metadata": {},
   "outputs": [
    {
     "name": "stdout",
     "output_type": "stream",
     "text": [
      "predicted outputs:  [ 4.96721311 10.62295082]\n"
     ]
    }
   ],
   "source": [
    "xte = [2, 7]\n",
    "Nte = np.shape(xte)\n",
    "xte_ext = np.transpose(np.vstack([np.ones(Nte),np.array(xte)]))\n",
    "print(\"predicted outputs: \",reg.predict(xte_ext))"
   ]
  },
  {
   "cell_type": "markdown",
   "metadata": {},
   "source": [
    "Or you can simply use matrix multiplication:\n"
   ]
  },
  {
   "cell_type": "code",
   "execution_count": 6,
   "metadata": {},
   "outputs": [
    {
     "data": {
      "text/plain": [
       "array([ 4.96721311, 10.62295082])"
      ]
     },
     "execution_count": 6,
     "metadata": {},
     "output_type": "execute_result"
    }
   ],
   "source": [
    "np.matmul(xte_ext,np.transpose(beta))"
   ]
  },
  {
   "cell_type": "markdown",
   "metadata": {},
   "source": [
    "9- Based on the given formula for covariance and variance we can compute the devision given in the question. \n",
    "As we see, The slope of the fitted linear regressor, in fact, is the covariance divided by the variance of the independent variable"
   ]
  },
  {
   "cell_type": "code",
   "execution_count": 19,
   "metadata": {},
   "outputs": [
    {
     "name": "stdout",
     "output_type": "stream",
     "text": [
      "slpoe = b1 = (covariance/variance) =   1.1311475409836065\n"
     ]
    }
   ],
   "source": [
    "cov = np.mean((x-m_x)*(y-m_y))\n",
    "var = np.mean(abs(x-m_x)**2) \n",
    "print (\"slpoe = b1 = (covariance/variance) =  \", cov /var)\n"
   ]
  }
 ],
 "metadata": {
  "kernelspec": {
   "display_name": "Python 3",
   "language": "python",
   "name": "python3"
  },
  "language_info": {
   "codemirror_mode": {
    "name": "ipython",
    "version": 3
   },
   "file_extension": ".py",
   "mimetype": "text/x-python",
   "name": "python",
   "nbconvert_exporter": "python",
   "pygments_lexer": "ipython3",
   "version": "3.7.3"
  }
 },
 "nbformat": 4,
 "nbformat_minor": 4
}
