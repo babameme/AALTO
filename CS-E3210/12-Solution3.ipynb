{
 "cells": [
  {
   "cell_type": "code",
   "execution_count": 23,
   "metadata": {},
   "outputs": [
    {
     "name": "stdout",
     "output_type": "stream",
     "text": [
      "not converged yet!\n",
      "[-0.8 -0.1]\n",
      "not converged yet!\n",
      "[-0.5  0.7]\n",
      "converged!\n"
     ]
    },
    {
     "data": {
      "text/plain": [
       "Text(0, 0.5, 'x2')"
      ]
     },
     "execution_count": 23,
     "metadata": {},
     "output_type": "execute_result"
    },
    {
     "data": {
      "image/png": "[encoded data removed]",
      "text/plain": [
       "<Figure size 432x288 with 1 Axes>"
      ]
     },
     "metadata": {
      "needs_background": "light"
     },
     "output_type": "display_data"
    }
   ],
   "source": [
    "import numpy as np\n",
    "import matplotlib\n",
    "import matplotlib.pyplot as plt\n",
    "import random\n",
    "training_inputs = np.asanyarray([[0.8, 0.1],[0.7, 0.2],[0.9, 0.3],[0.3, 0.8],[0.1, 0.7],[0.1, 0.9]])\n",
    "d = np.shape(training_inputs)[1]\n",
    "labels = np.array([-1,-1,-1, 1, 1, 1])\n",
    "colors = {'red', 'blue'}\n",
    "\n",
    "w = np.zeros(d)\n",
    "while(any([element <= 0 for element in [labels[ind]*np.dot(w,x) for ind,x in enumerate(training_inputs)] ])):    \n",
    "     print(\"not converged yet!\")\n",
    "     mistakes = np.where([element<=0 for element in [labels[ind]*np.dot(w,x) for ind,x in enumerate(training_inputs)] ])[0]\n",
    "     misclass = np.min(mistakes)\n",
    "     w = w + labels[misclass]*training_inputs[misclass]         \n",
    "     print(w)\n",
    "print(\"converged!\")\n",
    "#plot the seperator\n",
    "a = -w[0] / w[1]\n",
    "xx = np.linspace(0, 1)\n",
    "yy = a * xx - (0) / w[1] \n",
    "plt.plot(xx,yy)\n",
    "plt.scatter(training_inputs[:,0],training_inputs[:,1],c=labels, cmap=matplotlib.colors.ListedColormap(colors))\n",
    "plt.xlim([0.0, 1.0])\n",
    "plt.ylim([0.0, 1.0])\n",
    "plt.title(\"perceptron\")\n",
    "plt.xlabel(\"x1\")\n",
    "plt.ylabel(\"x2\")"
   ]
  },
  {
   "cell_type": "code",
   "execution_count": 24,
   "metadata": {},
   "outputs": [
    {
     "name": "stdout",
     "output_type": "stream",
     "text": [
      "not converged yet!\n",
      "[-0.8 -0.1 -1. ]\n",
      "number of true positives:  0\n",
      "not converged yet!\n",
      "[-0.5  0.7  0. ]\n",
      "number of true positives:  3\n",
      "not converged yet!\n",
      "[-0.9  0.3 -1. ]\n",
      "number of true positives:  0\n",
      "not converged yet!\n",
      "[-0.6  1.1  0. ]\n",
      "number of true positives:  3\n",
      "not converged yet!\n",
      "[-1.   0.7 -1. ]\n",
      "number of true positives:  0\n",
      "not converged yet!\n",
      "[-0.7  1.5  0. ]\n",
      "number of true positives:  3\n",
      "not converged yet!\n",
      "[-1.1  1.1 -1. ]\n",
      "number of true positives:  0\n",
      "not converged yet!\n",
      "[-0.8  1.9  0. ]\n",
      "number of true positives:  3\n",
      "not converged yet!\n",
      "[-1.2  1.5 -1. ]\n",
      "number of true positives:  1\n",
      "not converged yet!\n",
      "[-0.9  2.3  0. ]\n",
      "number of true positives:  3\n",
      "not converged yet!\n",
      "[-1.3  1.9 -1. ]\n",
      "number of true positives:  3\n",
      "converged!\n"
     ]
    },
    {
     "data": {
      "text/plain": [
       "Text(0, 0.5, 'x2')"
      ]
     },
     "execution_count": 24,
     "metadata": {},
     "output_type": "execute_result"
    },
    {
     "data": {
      "image/png": "[encoded data removed]",
      "text/plain": [
       "<Figure size 432x288 with 1 Axes>"
      ]
     },
     "metadata": {
      "needs_background": "light"
     },
     "output_type": "display_data"
    }
   ],
   "source": [
    "training_inputs =  np.vstack((training_inputs, [0.4,0.4]))\n",
    "labels = np.append(labels, -1)\n",
    "training_inputs_ext = np.hstack((training_inputs,np.ones((np.shape(training_inputs)[0],1))))\n",
    "d = np.shape(training_inputs_ext)[1]\n",
    "w = np.zeros(d)\n",
    "while(any([element<=0 for element in [labels[ind]*np.dot(w,x) for ind,x in enumerate(training_inputs_ext)] ])):    \n",
    "     print(\"not converged yet!\")\n",
    "     mistakes = np.where([element<=0 for element in [labels[ind]*np.dot(w,x) for ind,x in enumerate(training_inputs_ext)] ])[0]\n",
    "     misclass = np.min(mistakes)\n",
    "     w = w + labels[misclass]*training_inputs_ext[misclass]\n",
    "     print(w)\n",
    "     pred_labels = [1 if x>0 else -1 for x in [np.dot(w,x) for x in training_inputs_ext]]\n",
    "     tp = np.sum(np.logical_and(np.asarray(pred_labels) == 1, np.asarray(labels) == 1))\n",
    "     print(\"number of true positives: \",tp)\n",
    "\n",
    "print(\"converged!\")\n",
    "a = -w[0] / w[1]\n",
    "xx = np.linspace(0, 1)\n",
    "yy = a * xx - (w[2]) / w[1] \n",
    "plt.plot(xx,yy)\n",
    "plt.scatter(training_inputs_ext[:,0],training_inputs_ext[:,1],c=labels, cmap=matplotlib.colors.ListedColormap(colors))\n",
    "plt.xlim([0.0, 1.0])\n",
    "plt.ylim([0.0, 1.0])\n",
    "plt.title(\"perceptron\")\n",
    "plt.xlabel(\"x1\")\n",
    "plt.ylabel(\"x2\")"
   ]
  },
  {
   "cell_type": "code",
   "execution_count": 6,
   "metadata": {},
   "outputs": [
    {
     "name": "stdout",
     "output_type": "stream",
     "text": [
      "number of true positives: 3\n",
      "number of true positives: 3\n",
      "number of true positives: 0\n"
     ]
    }
   ],
   "source": [
    "import numpy as np\n",
    "\n",
    "X=np.array([[0.8, 0.1], [0.7, 0.2], [0.9, 0.3], [0.3, 0.8], [0.1, 0.7], [0.1, 0.9],[0.4,0.4]])\n",
    "y=np.array([-1,-1,-1,+1,+1,+1,-1])\n",
    "m,n=X.shape\n",
    "w=np.zeros(n)\n",
    "eta=0.01\n",
    "niter=1000\n",
    "\n",
    "def cost_func(X,y,w):\n",
    "    cost = 0\n",
    "    for j in range(m):\n",
    "        cost+=np.log(1+np.exp(-y[j]*np.dot(w,X[j])))\n",
    "    return (1.0/m)*cost\n",
    "for t in range(niter):\n",
    "  ## to compute the sum of component wise gradient, slide 23\n",
    "  JD=0\n",
    "  for i in range(m):\n",
    "    #print(i)\n",
    "    JD+=-(1/(1+np.exp(+y[i]*np.dot(w,X[i])))*y[i]*X[i])\n",
    "    #print (\"JD\",JD)\n",
    "  norm_JD = JD/float(m)\n",
    "  w=w-eta*norm_JD\n",
    "#print(\"w\",w,np.linalg.norm(w))\n",
    "\n",
    "for th in (0.5,0.3,0.8):\n",
    "    ypred=np.zeros(m)\n",
    "    for i in range(m):\n",
    "        ypred[i]=1/(1+np.exp(-np.dot(w,X[i])))\n",
    "    yp=np.sign(1*(ypred>=th))\n",
    "    tp = np.sum(np.logical_and(np.asarray(yp) == 1, np.asarray(y) == 1))\n",
    "    print(\"number of true positives:\" , tp)\n"
   ]
  },
  {
   "cell_type": "code",
   "execution_count": null,
   "metadata": {},
   "outputs": [],
   "source": []
  }
 ],
 "metadata": {
  "kernelspec": {
   "display_name": "Python 3",
   "language": "python",
   "name": "python3"
  },
  "language_info": {
   "codemirror_mode": {
    "name": "ipython",
    "version": 3
   },
   "file_extension": ".py",
   "mimetype": "text/x-python",
   "name": "python",
   "nbconvert_exporter": "python",
   "pygments_lexer": "ipython3",
   "version": "3.7.3"
  }
 },
 "nbformat": 4,
 "nbformat_minor": 2
}
